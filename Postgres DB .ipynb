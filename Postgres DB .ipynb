{
 "cells": [
  {
   "cell_type": "code",
   "execution_count": 1,
   "id": "97344a96",
   "metadata": {},
   "outputs": [],
   "source": [
    "import psycopg2"
   ]
  },
  {
   "cell_type": "markdown",
   "id": "3e157ce6",
   "metadata": {},
   "source": [
    "### Connecting to the Database"
   ]
  },
  {
   "cell_type": "code",
   "execution_count": 2,
   "id": "21125e99",
   "metadata": {},
   "outputs": [],
   "source": [
    "try:\n",
    "    conn = psycopg2.connect(\"host=127.0.0.1 dbname=postgres user=postgres password=root\")\n",
    "except psycopg2.Error as e:\n",
    "    print('Error: Could not make connection to the database')\n",
    "    print(e)"
   ]
  },
  {
   "cell_type": "markdown",
   "id": "77d023d6",
   "metadata": {},
   "source": [
    "### Use the connection to get a cursor to execute queries"
   ]
  },
  {
   "cell_type": "code",
   "execution_count": 3,
   "id": "f3251e79",
   "metadata": {},
   "outputs": [],
   "source": [
    "try:\n",
    "    curr = conn.cursor()\n",
    "except psycopg2.Error as e:\n",
    "    print('Error: Could not get cursor to the database')\n",
    "    print(e)"
   ]
  },
  {
   "cell_type": "markdown",
   "id": "60599961",
   "metadata": {},
   "source": [
    "### Setting autocommit to True so that each action is committed without having to call conn.commit() after each command"
   ]
  },
  {
   "cell_type": "code",
   "execution_count": 4,
   "id": "6833ca5a",
   "metadata": {},
   "outputs": [],
   "source": [
    "conn.set_session(autocommit=True)"
   ]
  },
  {
   "cell_type": "markdown",
   "id": "5f0a2d79",
   "metadata": {},
   "source": [
    "### Create a database to do the work in"
   ]
  },
  {
   "cell_type": "code",
   "execution_count": 6,
   "id": "6f1a2dfd",
   "metadata": {},
   "outputs": [
    {
     "name": "stdout",
     "output_type": "stream",
     "text": [
      "database \"firstdb\" already exists\n",
      "\n"
     ]
    }
   ],
   "source": [
    "try:\n",
    "    curr.execute(\"create database firstdb\")\n",
    "except psycopg2.Error as e:\n",
    "    print(e)"
   ]
  },
  {
   "cell_type": "markdown",
   "id": "d6fd889e",
   "metadata": {},
   "source": [
    "### Add the databse name in the connect statement. Let's close our connection to the default database, reconnect to the Udacity database and get a new cursor"
   ]
  },
  {
   "cell_type": "code",
   "execution_count": 8,
   "id": "8eaa3129",
   "metadata": {},
   "outputs": [],
   "source": [
    "try:\n",
    "    conn.close()\n",
    "except psycopg2.Error as e:\n",
    "    print(e)\n",
    "    \n",
    "try:\n",
    "    conn=psycopg2.connect(\"host=127.0.0.1 dbname=firstdb user=postgres password=root\")\n",
    "except psycopg2.Error as e:\n",
    "    print('Error: Could not connect to the database')\n",
    "    print(e)\n",
    "\n",
    "try:\n",
    "    curr = conn.cursor()\n",
    "except psycopg2.Error as e:\n",
    "    print('Error: Could not make a cursor')\n",
    "    print(e)\n",
    "    \n",
    "conn.set_session(autocommit=True)"
   ]
  },
  {
   "cell_type": "markdown",
   "id": "3de74edf",
   "metadata": {},
   "source": [
    "### Create table for students which include following columns\n",
    "###### student_id\n",
    "###### name\n",
    "###### age\n",
    "###### gender\n",
    "###### subject\n",
    "###### marks"
   ]
  },
  {
   "cell_type": "code",
   "execution_count": 9,
   "id": "5cc89b1d",
   "metadata": {},
   "outputs": [],
   "source": [
    "try:\n",
    "    curr.execute(\"CREATE TABLE IF NOT EXISTS students (student_id int, name varchar,\\\n",
    "    age int, gender varchar, subject varchar, marks int);\")\n",
    "except psycopg2.Error as e:\n",
    "    print('Error: Issue creating a table')\n",
    "    print(e)"
   ]
  },
  {
   "cell_type": "markdown",
   "id": "b4338d5f",
   "metadata": {},
   "source": [
    "### Insert values into the table"
   ]
  },
  {
   "cell_type": "code",
   "execution_count": 11,
   "id": "5637ace4",
   "metadata": {},
   "outputs": [],
   "source": [
    "try:\n",
    "    curr.execute(\"INSERT INTO students (student_id,name,age,gender,subject,marks) \\\n",
    "                  VALUES (%s,%s,%s,%s,%s,%s)\",\\\n",
    "                  (10,'Raj',19,'Male','Maths',98))\n",
    "except psycopg2.Error as e:\n",
    "    print('Error: Issue inserting values in a table')\n",
    "    print(e)\n",
    "    "
   ]
  },
  {
   "cell_type": "code",
   "execution_count": 12,
   "id": "29b26882",
   "metadata": {},
   "outputs": [],
   "source": [
    "try:\n",
    "    curr.execute(\"INSERT INTO students (student_id,name,age,gender,subject,marks) \\\n",
    "                  VALUES (%s,%s,%s,%s,%s,%s)\",\\\n",
    "                  (14,'Rani',18,'Female','Maths',96))\n",
    "except psycopg2.Error as e:\n",
    "    print('Error: Issue inserting values in a table')\n",
    "    print(e)\n",
    "    "
   ]
  },
  {
   "cell_type": "markdown",
   "id": "2d9cfff0",
   "metadata": {},
   "source": [
    "### Validate your data was inserted to a table"
   ]
  },
  {
   "cell_type": "code",
   "execution_count": 13,
   "id": "81c92074",
   "metadata": {},
   "outputs": [
    {
     "name": "stdout",
     "output_type": "stream",
     "text": [
      "(10, 'Raj', 19, 'Male', 'Maths', 98)\n",
      "(14, 'Rani', 18, 'Female', 'Maths', 96)\n"
     ]
    }
   ],
   "source": [
    "try:\n",
    "    curr.execute('select * from students')\n",
    "except psycopg2.Error as e:\n",
    "    print('Error: select statement')\n",
    "    print(e)\n",
    "    \n",
    "row = curr.fetchone()\n",
    "while row:\n",
    "    print(row)\n",
    "    row = curr.fetchone()"
   ]
  },
  {
   "cell_type": "markdown",
   "id": "1a957fe4",
   "metadata": {},
   "source": [
    "### Finaaly close your cursor and connection"
   ]
  },
  {
   "cell_type": "code",
   "execution_count": 14,
   "id": "44410950",
   "metadata": {},
   "outputs": [],
   "source": [
    "curr.close()\n",
    "conn.close()"
   ]
  },
  {
   "cell_type": "code",
   "execution_count": null,
   "id": "2152fdaa",
   "metadata": {},
   "outputs": [],
   "source": []
  }
 ],
 "metadata": {
  "kernelspec": {
   "display_name": "Python 3 (ipykernel)",
   "language": "python",
   "name": "python3"
  },
  "language_info": {
   "codemirror_mode": {
    "name": "ipython",
    "version": 3
   },
   "file_extension": ".py",
   "mimetype": "text/x-python",
   "name": "python",
   "nbconvert_exporter": "python",
   "pygments_lexer": "ipython3",
   "version": "3.11.3"
  }
 },
 "nbformat": 4,
 "nbformat_minor": 5
}
